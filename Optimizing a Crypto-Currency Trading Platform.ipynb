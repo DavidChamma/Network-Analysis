{
 "cells": [
  {
   "cell_type": "markdown",
   "metadata": {},
   "source": [
    "# Bitcoin OTC Network"
   ]
  },
  {
   "cell_type": "code",
   "execution_count": 1,
   "metadata": {},
   "outputs": [],
   "source": [
    "import networkx as nx\n",
    "import pandas as pd\n",
    "import igraph\n",
    "import datetime\n",
    "import math\n",
    "import operator\n",
    "import matplotlib.pyplot as plt\n",
    "from collections import Counter\n",
    "import numpy as np\n",
    "import powerlaw\n",
    "import nltk\n",
    "import random\n",
    "from sklearn.metrics.pairwise import linear_kernel\n",
    "from sklearn import preprocessing\n",
    "from sklearn.feature_extraction.text import TfidfVectorizer\n",
    "import igraph\n",
    "from igraph import *\n",
    "import community"
   ]
  },
  {
   "cell_type": "code",
   "execution_count": 2,
   "metadata": {},
   "outputs": [
    {
     "data": {
      "text/html": [
       "<div>\n",
       "<style scoped>\n",
       "    .dataframe tbody tr th:only-of-type {\n",
       "        vertical-align: middle;\n",
       "    }\n",
       "\n",
       "    .dataframe tbody tr th {\n",
       "        vertical-align: top;\n",
       "    }\n",
       "\n",
       "    .dataframe thead th {\n",
       "        text-align: right;\n",
       "    }\n",
       "</style>\n",
       "<table border=\"1\" class=\"dataframe\">\n",
       "  <thead>\n",
       "    <tr style=\"text-align: right;\">\n",
       "      <th></th>\n",
       "      <th>SOURCE</th>\n",
       "      <th>TARGET</th>\n",
       "      <th>RATING</th>\n",
       "      <th>TIME</th>\n",
       "    </tr>\n",
       "  </thead>\n",
       "  <tbody>\n",
       "    <tr>\n",
       "      <th>0</th>\n",
       "      <td>6</td>\n",
       "      <td>2</td>\n",
       "      <td>4</td>\n",
       "      <td>1.289242e+09</td>\n",
       "    </tr>\n",
       "    <tr>\n",
       "      <th>1</th>\n",
       "      <td>6</td>\n",
       "      <td>5</td>\n",
       "      <td>2</td>\n",
       "      <td>1.289242e+09</td>\n",
       "    </tr>\n",
       "    <tr>\n",
       "      <th>2</th>\n",
       "      <td>1</td>\n",
       "      <td>15</td>\n",
       "      <td>1</td>\n",
       "      <td>1.289243e+09</td>\n",
       "    </tr>\n",
       "    <tr>\n",
       "      <th>3</th>\n",
       "      <td>4</td>\n",
       "      <td>3</td>\n",
       "      <td>7</td>\n",
       "      <td>1.289245e+09</td>\n",
       "    </tr>\n",
       "    <tr>\n",
       "      <th>4</th>\n",
       "      <td>13</td>\n",
       "      <td>16</td>\n",
       "      <td>8</td>\n",
       "      <td>1.289254e+09</td>\n",
       "    </tr>\n",
       "  </tbody>\n",
       "</table>\n",
       "</div>"
      ],
      "text/plain": [
       "   SOURCE  TARGET  RATING          TIME\n",
       "0       6       2       4  1.289242e+09\n",
       "1       6       5       2  1.289242e+09\n",
       "2       1      15       1  1.289243e+09\n",
       "3       4       3       7  1.289245e+09\n",
       "4      13      16       8  1.289254e+09"
      ]
     },
     "execution_count": 2,
     "metadata": {},
     "output_type": "execute_result"
    }
   ],
   "source": [
    "df = pd.read_csv(\"soc-sign-bitcoinotc.csv\",header=None,names=(\"SOURCE TARGET RATING TIME\").split())\n",
    "df.head(5)"
   ]
  },
  {
   "cell_type": "code",
   "execution_count": 3,
   "metadata": {},
   "outputs": [
    {
     "data": {
      "text/html": [
       "<div>\n",
       "<style scoped>\n",
       "    .dataframe tbody tr th:only-of-type {\n",
       "        vertical-align: middle;\n",
       "    }\n",
       "\n",
       "    .dataframe tbody tr th {\n",
       "        vertical-align: top;\n",
       "    }\n",
       "\n",
       "    .dataframe thead th {\n",
       "        text-align: right;\n",
       "    }\n",
       "</style>\n",
       "<table border=\"1\" class=\"dataframe\">\n",
       "  <thead>\n",
       "    <tr style=\"text-align: right;\">\n",
       "      <th></th>\n",
       "      <th>SOURCE</th>\n",
       "      <th>TARGET</th>\n",
       "      <th>RATING</th>\n",
       "      <th>TIME</th>\n",
       "    </tr>\n",
       "  </thead>\n",
       "  <tbody>\n",
       "    <tr>\n",
       "      <th>0</th>\n",
       "      <td>6</td>\n",
       "      <td>2</td>\n",
       "      <td>4</td>\n",
       "      <td>2010-11-08 19:45:11.728360</td>\n",
       "    </tr>\n",
       "    <tr>\n",
       "      <th>1</th>\n",
       "      <td>6</td>\n",
       "      <td>5</td>\n",
       "      <td>2</td>\n",
       "      <td>2010-11-08 19:45:41.533780</td>\n",
       "    </tr>\n",
       "    <tr>\n",
       "      <th>2</th>\n",
       "      <td>1</td>\n",
       "      <td>15</td>\n",
       "      <td>1</td>\n",
       "      <td>2010-11-08 20:05:40.390490</td>\n",
       "    </tr>\n",
       "    <tr>\n",
       "      <th>3</th>\n",
       "      <td>4</td>\n",
       "      <td>3</td>\n",
       "      <td>7</td>\n",
       "      <td>2010-11-08 20:41:17.369750</td>\n",
       "    </tr>\n",
       "    <tr>\n",
       "      <th>4</th>\n",
       "      <td>13</td>\n",
       "      <td>16</td>\n",
       "      <td>8</td>\n",
       "      <td>2010-11-08 23:10:54.447460</td>\n",
       "    </tr>\n",
       "  </tbody>\n",
       "</table>\n",
       "</div>"
      ],
      "text/plain": [
       "   SOURCE  TARGET  RATING                       TIME\n",
       "0       6       2       4 2010-11-08 19:45:11.728360\n",
       "1       6       5       2 2010-11-08 19:45:41.533780\n",
       "2       1      15       1 2010-11-08 20:05:40.390490\n",
       "3       4       3       7 2010-11-08 20:41:17.369750\n",
       "4      13      16       8 2010-11-08 23:10:54.447460"
      ]
     },
     "execution_count": 3,
     "metadata": {},
     "output_type": "execute_result"
    }
   ],
   "source": [
    "def readable_time(time):\n",
    "    r_time=datetime.datetime.fromtimestamp(time)\n",
    "    return r_time\n",
    "\n",
    "df[\"TIME\"]=df[\"TIME\"].apply(readable_time)\n",
    "df.head(5)"
   ]
  },
  {
   "cell_type": "code",
   "execution_count": 4,
   "metadata": {},
   "outputs": [],
   "source": [
    "G = nx.DiGraph()\n",
    "\n",
    "f = open(\"soc-sign-bitcoinotc.csv\",\"r\")\n",
    "for l in f:\n",
    "    ls = l.strip().split(\",\")\n",
    "    G.add_edge(ls[0], ls[1], weight = float(ls[2])) ## the weight should already be in the range of -1 to 1\n",
    "f.close()"
   ]
  },
  {
   "cell_type": "code",
   "execution_count": 5,
   "metadata": {},
   "outputs": [
    {
     "data": {
      "text/plain": [
       "5881"
      ]
     },
     "execution_count": 5,
     "metadata": {},
     "output_type": "execute_result"
    }
   ],
   "source": [
    "G.number_of_nodes()"
   ]
  },
  {
   "cell_type": "code",
   "execution_count": 6,
   "metadata": {
    "scrolled": true
   },
   "outputs": [
    {
     "data": {
      "text/plain": [
       "True"
      ]
     },
     "execution_count": 6,
     "metadata": {},
     "output_type": "execute_result"
    }
   ],
   "source": [
    "nx.is_directed(G)"
   ]
  },
  {
   "cell_type": "code",
   "execution_count": 356,
   "metadata": {},
   "outputs": [
    {
     "data": {
      "text/plain": [
       "4709"
      ]
     },
     "execution_count": 356,
     "metadata": {},
     "output_type": "execute_result"
    }
   ],
   "source": [
    "size_Gcc"
   ]
  },
  {
   "cell_type": "code",
   "execution_count": 317,
   "metadata": {
    "scrolled": true
   },
   "outputs": [
    {
     "data": {
      "image/png": "[encoded data removed]",
      "text/plain": [
       "<Figure size 432x288 with 2 Axes>"
      ]
     },
     "metadata": {
      "needs_background": "light"
     },
     "output_type": "display_data"
    }
   ],
   "source": [
    "degrees=G.degree()\n",
    "values= sorted(set(dict(degrees).values()))\n",
    "#print(values)\n",
    "hist=[list(dict(degrees).values()).count(x) for x in values]\n",
    "\n",
    "plt.figure()\n",
    "plt.subplot(1,2,1)\n",
    "plt.grid(True)\n",
    "plt.plot(values,hist, 'ro-') \n",
    "plt.xlabel('Degree')\n",
    "plt.ylabel('Number of nodes')\n",
    "plt.title('degree distribution')\n",
    "plt.subplot(1,2,2)\n",
    "plt.loglog(values,hist, 'bo-')\n",
    "plt.xlabel('Degree')\n",
    "plt.ylabel('Number of nodes')\n",
    "plt.title('degree distribution using log scale')\n",
    "plt.show()"
   ]
  },
  {
   "cell_type": "code",
   "execution_count": 7,
   "metadata": {},
   "outputs": [
    {
     "data": {
      "image/png": "[encoded data removed]",
      "text/plain": [
       "<Figure size 432x288 with 2 Axes>"
      ]
     },
     "metadata": {
      "needs_background": "light"
     },
     "output_type": "display_data"
    }
   ],
   "source": [
    "#In degree distribution\n",
    "indegrees=G.in_degree()\n",
    "values= sorted(set(dict(indegrees).values()))\n",
    "#print(values)\n",
    "hist=[list(dict(indegrees).values()).count(x) for x in values]\n",
    "\n",
    "plt.figure()\n",
    "plt.subplot(1,2,1)\n",
    "plt.grid(True)\n",
    "plt.plot(values,hist, 'ro-') \n",
    "plt.xlabel('In_Degree')\n",
    "plt.ylabel('Number of nodes')\n",
    "plt.title('In_degree distribution')\n",
    "plt.subplot(1,2,2)\n",
    "plt.loglog(values,hist, 'bo-')\n",
    "plt.xlabel('In_Degree')\n",
    "plt.ylabel('Number of nodes')\n",
    "plt.title('In_degree distribution using log scale')\n",
    "plt.show()"
   ]
  },
  {
   "cell_type": "code",
   "execution_count": 8,
   "metadata": {},
   "outputs": [
    {
     "data": {
      "image/png": "[encoded data removed]",
      "text/plain": [
       "<Figure size 432x288 with 2 Axes>"
      ]
     },
     "metadata": {
      "needs_background": "light"
     },
     "output_type": "display_data"
    }
   ],
   "source": [
    "#Out degree distribution\n",
    "outdegrees=G.out_degree()\n",
    "values= sorted(set(dict(outdegrees).values()))\n",
    "#print(values)\n",
    "hist=[list(dict(outdegrees).values()).count(x) for x in values]\n",
    "\n",
    "plt.figure()\n",
    "plt.subplot(1,2,1)\n",
    "plt.grid(True)\n",
    "plt.plot(values,hist, 'ro-') \n",
    "plt.xlabel('Out_Degree')\n",
    "plt.ylabel('Number of nodes')\n",
    "plt.title('Out_degree distribution')\n",
    "plt.subplot(1,2,2)\n",
    "plt.loglog(values,hist, 'bo-')\n",
    "plt.xlabel('Out_Degree')\n",
    "plt.ylabel('Number of nodes')\n",
    "plt.title('Out_degree distribution using log scale')\n",
    "plt.show()"
   ]
  },
  {
   "cell_type": "markdown",
   "metadata": {},
   "source": [
    "# Error and attack tolerance"
   ]
  },
  {
   "cell_type": "code",
   "execution_count": 378,
   "metadata": {},
   "outputs": [],
   "source": [
    "#Targetted removal\n",
    "def target_remov(prop, G):\n",
    "    Gcco = max(nx.strongly_connected_component_subgraphs(G), key = len)\n",
    "    size_Gcco = Gcco.number_of_nodes()\n",
    "    CCsizes0=[len(c) for c in sorted(nx.strongly_connected_components(G), key=len,\n",
    "                                    reverse=True)]\n",
    "    CCsizes0.pop(0)\n",
    "    if not CCsizes0 : \n",
    "        size_iso0 = 0\n",
    "    else :\n",
    "        size_iso0 = np.mean(CCsizes0)\n",
    "    G_new = G.copy()\n",
    "    sorted_nodes = sorted(nx.eigenvector_centrality(G_new).items(), key=operator.itemgetter(1),\n",
    "                          reverse = True)\n",
    "    nb_nodes = len(sorted_nodes)\n",
    "    nb_remov = int(prop*nb_nodes)\n",
    "    nodes_remov=[t[0] for t in sorted_nodes[:nb_remov]]\n",
    "    G_new.remove_nodes_from(nodes_remov)\n",
    "    CCsizes=[len(c) for c in sorted(nx.strongly_connected_components(G_new), key=len,\n",
    "                                    reverse=True)]\n",
    "    CCsizes.pop(0)\n",
    "    if not CCsizes : \n",
    "        size_iso = 0\n",
    "    else :\n",
    "        size_iso = np.mean(CCsizes)\n",
    "    Gcc = max(nx.strongly_connected_component_subgraphs(G_new), key = len)\n",
    "    size_Gcc = Gcc.number_of_nodes()\n",
    "    return(size_Gcc/size_Gcco, size_iso/size_iso0)"
   ]
  },
  {
   "cell_type": "code",
   "execution_count": 379,
   "metadata": {},
   "outputs": [],
   "source": [
    "#Random removal\n",
    "def random_remov(prop, G):\n",
    "    Gcco = max(nx.strongly_connected_component_subgraphs(G), key = len)\n",
    "    size_Gcco = Gcco.number_of_nodes()\n",
    "    CCsizes0=[len(c) for c in sorted(nx.strongly_connected_components(G), key=len,\n",
    "                                    reverse=True)]\n",
    "    CCsizes0.pop(0)\n",
    "    if not CCsizes0 : \n",
    "        size_iso0 = 0\n",
    "    else :\n",
    "        size_iso0 = np.mean(CCsizes0)\n",
    "    G_new = G.copy()\n",
    "    nodes = G_new.nodes()\n",
    "    nb_nodes = len(nodes)\n",
    "    nodes_remov=random.sample(nodes, k=int(prop*nb_nodes))\n",
    "    G_new.remove_nodes_from(nodes_remov)\n",
    "    CCsizes=[len(c) for c in sorted(nx.strongly_connected_components(G_new), key=len,\n",
    "                                    reverse=True)]\n",
    "    CCsizes.pop(0)\n",
    "    if not CCsizes : \n",
    "        size_iso = 0\n",
    "    else :\n",
    "        size_iso = np.mean(CCsizes)\n",
    "    Gcc = max(nx.strongly_connected_component_subgraphs(G_new), key = len)\n",
    "    size_Gcc = Gcc.number_of_nodes()\n",
    "    return(size_Gcc/size_Gcco, size_iso/size_iso0)"
   ]
  },
  {
   "cell_type": "code",
   "execution_count": 380,
   "metadata": {},
   "outputs": [],
   "source": [
    "#Creating data for plots\n",
    "def data_gene(propmin, propmax, nb_points, G):\n",
    "    props = np.linspace(propmin, propmax, num = nb_points)\n",
    "    Y_rand = []\n",
    "    Y_trgt = []\n",
    "    for prop in props:\n",
    "        Y_rand.append(random_remov(prop,G))\n",
    "        Y_trgt.append(target_remov(prop,G))\n",
    "    Y_rand=np.array(Y_rand)\n",
    "    Y_trgt=np.array(Y_trgt)\n",
    "    return(props, Y_rand, Y_trgt)"
   ]
  },
  {
   "cell_type": "code",
   "execution_count": 381,
   "metadata": {},
   "outputs": [],
   "source": [
    "props, Y_rand, Y_trgt = data_gene(0.0,0.20,30,G)"
   ]
  },
  {
   "cell_type": "code",
   "execution_count": 382,
   "metadata": {
    "scrolled": true
   },
   "outputs": [
    {
     "data": {
      "image/png": "[encoded data removed]",
      "text/plain": [
       "<Figure size 432x288 with 1 Axes>"
      ]
     },
     "metadata": {
      "needs_background": "light"
     },
     "output_type": "display_data"
    }
   ],
   "source": [
    "#Plotting the results\n",
    "plt.plot(props, Y_rand[:,0], 'bs', fillstyle='none')\n",
    "plt.plot(props, Y_rand[:,1],'bs')\n",
    "plt.plot(props, Y_trgt[:,0], 'ro', fillstyle = 'none')\n",
    "plt.plot(props, Y_trgt[:,1], 'ro')\n",
    "plt.title(\"Network fragmentation under random failures and attacks\")\n",
    "plt.ylabel(\"relative sizes\")\n",
    "plt.xlabel(\"Proportion of nodes removed\")\n",
    "plt.legend([\"Failure_GC\",\"Failure_rest\",\"Attack_GC\",\"Attack_rest\"])\n",
    "plt.show()"
   ]
  },
  {
   "cell_type": "markdown",
   "metadata": {},
   "source": [
    "# Modularity / clustering"
   ]
  },
  {
   "cell_type": "code",
   "execution_count": 4,
   "metadata": {},
   "outputs": [
    {
     "name": "stdout",
     "output_type": "stream",
     "text": [
      "infomap 0.35860873515385067\n",
      "0.386523627951781\n",
      "0.4845153329951179\n",
      "0.21477991252214382\n"
     ]
    },
    {
     "data": {
      "text/plain": [
       "28"
      ]
     },
     "execution_count": 4,
     "metadata": {},
     "output_type": "execute_result"
    }
   ],
   "source": [
    "G2 = nx.convert_node_labels_to_integers(G,label_attribute='old_label')\n",
    "IDs = G2.nodes()\n",
    "edges = G2.edges()\n",
    "\n",
    "\n",
    "#Create directed Igraph \n",
    "g = igraph.Graph(directed=True)\n",
    "g.add_vertices(IDs)\n",
    "## add edges\n",
    "g.add_edges(edges)\n",
    "\n",
    "#Create undirected graph using nx\n",
    "U_G=nx.to_undirected(G)\n",
    "\n",
    "#Modularity maximisation with infomap \n",
    "p = g.community_infomap(trials=100)\n",
    "Q = g.modularity(p)\n",
    "print(\"infomap\",Q)\n",
    "\n",
    "#Create undirected Igraph \n",
    "g = igraph.Graph(directed=False)\n",
    "g.add_vertices(IDs)\n",
    "## add edges\n",
    "g.add_edges(edges)\n",
    "\n",
    "#Modularity maximisation with community leading eigen vector\n",
    "h = g.community_leading_eigenvector()\n",
    "Q1 = g.modularity(h)\n",
    "print(Q1)\n",
    "\n",
    "#Modularity maximisation with community multi level\n",
    "i = g.community_multilevel(weights=None, return_levels=False)\n",
    "Q2 = g.modularity(i)\n",
    "print(Q2)\n",
    "\n",
    "#Modularity maximisation with Louvain algorithm\n",
    "j=community.best_partition(U_G,weight=\"RATING\")\n",
    "Q3=community.modularity(j,U_G)\n",
    "print(Q3)\n",
    "\n",
    "#Getting number of clusters\n",
    "cluster =[]\n",
    "for a,b in enumerate(i):\n",
    "    cluster.append(b)\n",
    "    \n",
    "len(cluster)"
   ]
  },
  {
   "cell_type": "code",
   "execution_count": 5,
   "metadata": {},
   "outputs": [
    {
     "name": "stdout",
     "output_type": "stream",
     "text": [
      "[4891, 4919, 4920, 4940, 4941, 4983, 5034]\n"
     ]
    }
   ],
   "source": [
    "# dictionnary community: list of nodes\n",
    "print(i[22])"
   ]
  },
  {
   "cell_type": "code",
   "execution_count": 6,
   "metadata": {},
   "outputs": [],
   "source": [
    "# Dictionary community : list of nodes\n",
    "dict_max_mod={}\n",
    "for item in range(len(cluster)):\n",
    "    dict_max_mod[item]=i[item]"
   ]
  },
  {
   "cell_type": "code",
   "execution_count": 7,
   "metadata": {},
   "outputs": [],
   "source": [
    "# dictionary node: community\n",
    "dict_by_node={}\n",
    "for key, value in dict_max_mod.items():\n",
    "    for i in value:\n",
    "        dict_by_node[i]=key"
   ]
  },
  {
   "cell_type": "code",
   "execution_count": 8,
   "metadata": {},
   "outputs": [
    {
     "data": {
      "text/plain": [
       "28"
      ]
     },
     "execution_count": 8,
     "metadata": {},
     "output_type": "execute_result"
    }
   ],
   "source": [
    "len(set(dict_by_node.values()))"
   ]
  },
  {
   "cell_type": "code",
   "execution_count": 9,
   "metadata": {},
   "outputs": [
    {
     "name": "stdout",
     "output_type": "stream",
     "text": [
      "Counter({3: 1407, 26: 1051, 11: 909, 9: 779, 23: 523, 10: 495, 16: 381, 14: 172, 6: 44, 18: 20, 21: 15, 2: 11, 4: 8, 24: 8, 20: 7, 22: 7, 7: 6, 8: 6, 25: 6, 19: 5, 0: 4, 1: 3, 5: 3, 17: 3, 12: 2, 13: 2, 15: 2, 27: 2})\n"
     ]
    },
    {
     "data": {
      "image/png": "[encoded data removed]",
      "text/plain": [
       "<Figure size 432x288 with 1 Axes>"
      ]
     },
     "metadata": {
      "needs_background": "light"
     },
     "output_type": "display_data"
    }
   ],
   "source": [
    "#Counting the number of nodes by community\n",
    "from collections import Counter\n",
    "counter=Counter(dict_by_node.values())\n",
    "print(counter)\n",
    "\n",
    "#count=[]\n",
    "#for i in counter.values():\n",
    "#    mean_scores.append(i[0])\n",
    "\n",
    "fig = plt.figure()\n",
    "axes1 = fig.add_axes([0.1, 0.1, 0.8, 0.8])\n",
    "#axes1.hist(dict_by_node.values() ,bins=28, label=\"number of nodes by community\")\n",
    "#axes1.set_xlabel('Community')\n",
    "#axes1.set_ylabel('Size')\n",
    "#axes1.set_title('number of nodes by community')\n",
    "\n",
    "axes1.bar(range(len(set(dict_by_node.values()))), list(counter.values()), align='center')\n",
    "axes1.set_xticklabels(set(dict_by_node.values()));\n",
    "axes1.set_xticks(range(len(set(dict_by_node.values()))));\n",
    "axes1.set_xlabel('Community')\n",
    "axes1.set_ylabel(\"Size\")\n",
    "axes1.set_title(\"number of nodes by community\");"
   ]
  },
  {
   "cell_type": "code",
   "execution_count": 14,
   "metadata": {
    "scrolled": true
   },
   "outputs": [
    {
     "data": {
      "image/png": "[encoded data removed]",
      "text/plain": [
       "<Figure size 432x288 with 1 Axes>"
      ]
     },
     "metadata": {},
     "output_type": "display_data"
    }
   ],
   "source": [
    "# A graph where each node is a community\n",
    "\n",
    "# the function used needs to take the nodes as strings so we create a new dictionary\n",
    "str_dict_by_node={}\n",
    "for key, value in dict_by_node.items():\n",
    "    str_dict_by_node[str(key)]=value\n",
    "\n",
    "nodes_to_remove=[]\n",
    "for key in str_dict_by_node.keys():\n",
    "    if key not in list(U_G.nodes):\n",
    "        nodes_to_remove.append(key)\n",
    "\n",
    "for node in U_G.nodes():\n",
    "    if node not in str_dict_by_node:\n",
    "        str_dict_by_node[str(node)]=None\n",
    "\n",
    "for key in nodes_to_remove:\n",
    "    str_dict_by_node.pop(key)\n",
    "\n",
    "ind = community.induced_graph(str_dict_by_node, U_G)\n",
    "\n",
    "nx.draw(ind, with_labels = True) \n",
    "plt.draw() "
   ]
  },
  {
   "cell_type": "code",
   "execution_count": 15,
   "metadata": {},
   "outputs": [],
   "source": [
    "# We consider the communities that have a \"significant\" number of nodes\n",
    "# dictionary with only nodes of considered communities\n",
    "communities_of_interest=[3,6,9,10,11,14,16,23,26]\n",
    "dict_commu_interest={}\n",
    "for i in communities_of_interest:\n",
    "    for node,commu in dict_by_node.items():\n",
    "        if commu==i:\n",
    "            dict_commu_interest[node]=commu"
   ]
  },
  {
   "cell_type": "code",
   "execution_count": 16,
   "metadata": {},
   "outputs": [
    {
     "data": {
      "text/plain": [
       "{3, 6, 9, 10, 11, 14, 16, 23, 26}"
      ]
     },
     "execution_count": 16,
     "metadata": {},
     "output_type": "execute_result"
    }
   ],
   "source": [
    "set(dict_commu_interest.values())"
   ]
  },
  {
   "cell_type": "code",
   "execution_count": 19,
   "metadata": {},
   "outputs": [
    {
     "name": "stdout",
     "output_type": "stream",
     "text": [
      "0\n",
      "1000\n",
      "2000\n",
      "3000\n",
      "4000\n",
      "5000\n",
      "6000\n",
      "7000\n",
      "8000\n",
      "9000\n",
      "10000\n",
      "11000\n",
      "12000\n",
      "13000\n",
      "14000\n",
      "15000\n",
      "16000\n",
      "17000\n",
      "18000\n",
      "19000\n",
      "20000\n",
      "21000\n",
      "22000\n",
      "23000\n",
      "24000\n",
      "25000\n",
      "26000\n",
      "27000\n",
      "28000\n",
      "29000\n",
      "30000\n",
      "31000\n",
      "32000\n",
      "33000\n",
      "34000\n",
      "35000\n"
     ]
    }
   ],
   "source": [
    "df2 = pd.read_csv(\"soc-sign-bitcoinotc.csv\",header=None,names=(\"SOURCE TARGET RATING TIME\").split())\n",
    "df2.drop(\"TIME\",axis=1,inplace=True)\n",
    "df2[\"community_source\"] = 0\n",
    "df2[\"community_target\"] = 0\n",
    "df2[\"same_community\"]=0\n",
    "\n",
    "for i in range(df2.shape[0]):\n",
    "    try:\n",
    "        df2[\"community_source\"].iloc[i]=dict_by_node[int(df2[\"SOURCE\"].iloc[i])]\n",
    "        df2[\"community_target\"].iloc[i]=dict_by_node[int(df2[\"TARGET\"].iloc[i])]\n",
    "        if df2[\"community_source\"].iloc[i]==df2[\"community_target\"].iloc[i]:\n",
    "            df2[\"same_community\"].iloc[i]=1\n",
    "        else:\n",
    "            df2[\"same_community\"].iloc[i]=0\n",
    "    except KeyError: \n",
    "        df2[\"community_source\"].iloc[i]=3\n",
    "        df2[\"community_target\"].iloc[i]=3\n",
    "        df2[\"same_community\"].iloc[i]=1\n",
    "        \n",
    "        \n",
    "    if i%1000==0:print(i)"
   ]
  },
  {
   "cell_type": "code",
   "execution_count": 20,
   "metadata": {},
   "outputs": [
    {
     "data": {
      "text/html": [
       "<div>\n",
       "<style scoped>\n",
       "    .dataframe tbody tr th:only-of-type {\n",
       "        vertical-align: middle;\n",
       "    }\n",
       "\n",
       "    .dataframe tbody tr th {\n",
       "        vertical-align: top;\n",
       "    }\n",
       "\n",
       "    .dataframe thead th {\n",
       "        text-align: right;\n",
       "    }\n",
       "</style>\n",
       "<table border=\"1\" class=\"dataframe\">\n",
       "  <thead>\n",
       "    <tr style=\"text-align: right;\">\n",
       "      <th></th>\n",
       "      <th>SOURCE</th>\n",
       "      <th>TARGET</th>\n",
       "      <th>RATING</th>\n",
       "      <th>community_source</th>\n",
       "      <th>community_target</th>\n",
       "      <th>same_community</th>\n",
       "    </tr>\n",
       "  </thead>\n",
       "  <tbody>\n",
       "    <tr>\n",
       "      <th>0</th>\n",
       "      <td>6</td>\n",
       "      <td>2</td>\n",
       "      <td>4</td>\n",
       "      <td>3</td>\n",
       "      <td>3</td>\n",
       "      <td>1</td>\n",
       "    </tr>\n",
       "    <tr>\n",
       "      <th>1</th>\n",
       "      <td>6</td>\n",
       "      <td>5</td>\n",
       "      <td>2</td>\n",
       "      <td>3</td>\n",
       "      <td>3</td>\n",
       "      <td>1</td>\n",
       "    </tr>\n",
       "    <tr>\n",
       "      <th>2</th>\n",
       "      <td>1</td>\n",
       "      <td>15</td>\n",
       "      <td>1</td>\n",
       "      <td>3</td>\n",
       "      <td>3</td>\n",
       "      <td>1</td>\n",
       "    </tr>\n",
       "    <tr>\n",
       "      <th>3</th>\n",
       "      <td>4</td>\n",
       "      <td>3</td>\n",
       "      <td>7</td>\n",
       "      <td>3</td>\n",
       "      <td>3</td>\n",
       "      <td>1</td>\n",
       "    </tr>\n",
       "    <tr>\n",
       "      <th>4</th>\n",
       "      <td>13</td>\n",
       "      <td>16</td>\n",
       "      <td>8</td>\n",
       "      <td>3</td>\n",
       "      <td>9</td>\n",
       "      <td>0</td>\n",
       "    </tr>\n",
       "  </tbody>\n",
       "</table>\n",
       "</div>"
      ],
      "text/plain": [
       "   SOURCE  TARGET  RATING  community_source  community_target  same_community\n",
       "0       6       2       4                 3                 3               1\n",
       "1       6       5       2                 3                 3               1\n",
       "2       1      15       1                 3                 3               1\n",
       "3       4       3       7                 3                 3               1\n",
       "4      13      16       8                 3                 9               0"
      ]
     },
     "execution_count": 20,
     "metadata": {},
     "output_type": "execute_result"
    }
   ],
   "source": [
    "df2.head(5)"
   ]
  },
  {
   "cell_type": "code",
   "execution_count": 21,
   "metadata": {},
   "outputs": [],
   "source": [
    "# If two nodes are in the same community, compute their community \n",
    "community=[]\n",
    "#df2[\"community\"]='nan'\n",
    "for i in range(df2.shape[0]):\n",
    "    if df2[\"same_community\"].iloc[i]==1:\n",
    "        community.append(df2[\"community_source\"].iloc[i])\n",
    "    else:\n",
    "        community.append(\"nan\")\n",
    "df2[\"community\"]=community"
   ]
  },
  {
   "cell_type": "code",
   "execution_count": 22,
   "metadata": {},
   "outputs": [
    {
     "data": {
      "text/html": [
       "<div>\n",
       "<style scoped>\n",
       "    .dataframe tbody tr th:only-of-type {\n",
       "        vertical-align: middle;\n",
       "    }\n",
       "\n",
       "    .dataframe tbody tr th {\n",
       "        vertical-align: top;\n",
       "    }\n",
       "\n",
       "    .dataframe thead th {\n",
       "        text-align: right;\n",
       "    }\n",
       "</style>\n",
       "<table border=\"1\" class=\"dataframe\">\n",
       "  <thead>\n",
       "    <tr style=\"text-align: right;\">\n",
       "      <th></th>\n",
       "      <th>SOURCE</th>\n",
       "      <th>TARGET</th>\n",
       "      <th>RATING</th>\n",
       "      <th>community_source</th>\n",
       "      <th>community_target</th>\n",
       "      <th>same_community</th>\n",
       "      <th>community</th>\n",
       "    </tr>\n",
       "  </thead>\n",
       "  <tbody>\n",
       "    <tr>\n",
       "      <th>0</th>\n",
       "      <td>6</td>\n",
       "      <td>2</td>\n",
       "      <td>4</td>\n",
       "      <td>3</td>\n",
       "      <td>3</td>\n",
       "      <td>1</td>\n",
       "      <td>3</td>\n",
       "    </tr>\n",
       "    <tr>\n",
       "      <th>1</th>\n",
       "      <td>6</td>\n",
       "      <td>5</td>\n",
       "      <td>2</td>\n",
       "      <td>3</td>\n",
       "      <td>3</td>\n",
       "      <td>1</td>\n",
       "      <td>3</td>\n",
       "    </tr>\n",
       "    <tr>\n",
       "      <th>2</th>\n",
       "      <td>1</td>\n",
       "      <td>15</td>\n",
       "      <td>1</td>\n",
       "      <td>3</td>\n",
       "      <td>3</td>\n",
       "      <td>1</td>\n",
       "      <td>3</td>\n",
       "    </tr>\n",
       "    <tr>\n",
       "      <th>3</th>\n",
       "      <td>4</td>\n",
       "      <td>3</td>\n",
       "      <td>7</td>\n",
       "      <td>3</td>\n",
       "      <td>3</td>\n",
       "      <td>1</td>\n",
       "      <td>3</td>\n",
       "    </tr>\n",
       "    <tr>\n",
       "      <th>4</th>\n",
       "      <td>13</td>\n",
       "      <td>16</td>\n",
       "      <td>8</td>\n",
       "      <td>3</td>\n",
       "      <td>9</td>\n",
       "      <td>0</td>\n",
       "      <td>nan</td>\n",
       "    </tr>\n",
       "  </tbody>\n",
       "</table>\n",
       "</div>"
      ],
      "text/plain": [
       "   SOURCE  TARGET  RATING  community_source  community_target  same_community  \\\n",
       "0       6       2       4                 3                 3               1   \n",
       "1       6       5       2                 3                 3               1   \n",
       "2       1      15       1                 3                 3               1   \n",
       "3       4       3       7                 3                 3               1   \n",
       "4      13      16       8                 3                 9               0   \n",
       "\n",
       "  community  \n",
       "0         3  \n",
       "1         3  \n",
       "2         3  \n",
       "3         3  \n",
       "4       nan  "
      ]
     },
     "execution_count": 22,
     "metadata": {},
     "output_type": "execute_result"
    }
   ],
   "source": [
    "df2.head(5)"
   ]
  },
  {
   "cell_type": "code",
   "execution_count": 23,
   "metadata": {},
   "outputs": [],
   "source": [
    "# dictionary that contains the mean rating for transactions between users of the same community and the std\n",
    "dict_rating={}\n",
    "dict_rating_list={}\n",
    "for i in communities_of_interest:\n",
    "    list_ratings=[]\n",
    "    n_nodes=0\n",
    "    sum_ratings=0\n",
    "    for l in range(df2.shape[0]):\n",
    "        if df2[\"same_community\"].iloc[l]==1:\n",
    "            if df2[\"community_source\"].iloc[l]==i:\n",
    "                sum_ratings+=df2[\"RATING\"].iloc[l]\n",
    "                list_ratings.append(df2[\"RATING\"].iloc[l])\n",
    "                n_nodes+=1\n",
    "     \n",
    "    dict_rating_list[i]=list_ratings\n",
    "    dict_rating[i]=(sum_ratings/n_nodes,np.std(list_ratings))"
   ]
  },
  {
   "cell_type": "code",
   "execution_count": 24,
   "metadata": {},
   "outputs": [
    {
     "data": {
      "text/plain": [
       "{3: (1.7219605534294966, 2.5558173753041187),\n",
       " 6: (2.25, 2.419538523492996),\n",
       " 9: (1.1143073429220287, 3.1684644527047445),\n",
       " 10: (0.592948717948718, 4.129049871765174),\n",
       " 11: (1.4915824915824916, 3.5559795941409873),\n",
       " 14: (0.25, 4.548351349665063),\n",
       " 16: (1.1730769230769231, 3.938084041403861),\n",
       " 23: (0.771551724137931, 4.011240801119523),\n",
       " 26: (0.5296404275996113, 4.110280784953106)}"
      ]
     },
     "execution_count": 24,
     "metadata": {},
     "output_type": "execute_result"
    }
   ],
   "source": [
    "dict_rating"
   ]
  },
  {
   "cell_type": "code",
   "execution_count": 25,
   "metadata": {},
   "outputs": [
    {
     "data": {
      "image/png": "[encoded data removed]",
      "text/plain": [
       "<Figure size 864x288 with 2 Axes>"
      ]
     },
     "metadata": {
      "needs_background": "light"
     },
     "output_type": "display_data"
    }
   ],
   "source": [
    "mean_scores=[]\n",
    "for i in dict_rating.values():\n",
    "    mean_scores.append(i[0])\n",
    "\n",
    "labels, data = [*zip(*dict_rating_list.items())]  \n",
    "\n",
    "fig, axes = plt.subplots(1, 2, figsize=(12, 4))\n",
    "\n",
    "axes[0].bar(range(len(dict_rating.keys())), mean_scores, align='center')\n",
    "axes[0].set_xticklabels(list(dict_rating.keys()));\n",
    "axes[0].set_xticks(range(len(dict_rating.keys())));\n",
    "axes[0].set_xlabel('Communities')\n",
    "axes[0].set_ylabel(\"Rating\")\n",
    "axes[0].set_title(\"Rating by community\")\n",
    "\n",
    "\n",
    "axes[1].boxplot(data)\n",
    "axes[1].set_xticklabels(list(dict_rating.keys()));\n",
    "axes[1].set_xticks(range(1, len(labels) + 1), labels);\n",
    "axes[1].set_xlabel('Communities')\n",
    "axes[1].set_ylabel(\"Rating\")\n",
    "axes[1].set_title(\"Rating distribution\");"
   ]
  },
  {
   "cell_type": "code",
   "execution_count": 26,
   "metadata": {},
   "outputs": [],
   "source": [
    "# dictionaries that store the ratios of each trust category for each community\n",
    "dict_trust_3={} #dictionnary that stores the detail for community 3\n",
    "dict_trust_ratio={}\n",
    "dict_total_trust_ratio={}\n",
    "\n",
    "for j in communities_of_interest:\n",
    "    list_total_distrust=[]  #grades from -10 to -6\n",
    "    list_distrust=[]        # grades from -5 to -1\n",
    "    list_trust=[]                #grades from 1 to 5\n",
    "    list_total_trust=[]     # grades from 6 to 10\n",
    "    \n",
    "    for i in range(df2.shape[0]):\n",
    "        if df2[\"community\"].iloc[i]==j:\n",
    "            if df2[\"RATING\"].iloc[i]<-5 and df2[\"RATING\"].iloc[i]>-11:\n",
    "                list_total_distrust.append(df2[\"RATING\"].iloc[i])\n",
    "            elif df2[\"RATING\"].iloc[i]<0 and df2[\"RATING\"].iloc[i]>-6:\n",
    "                list_distrust.append(df2[\"RATING\"].iloc[i])\n",
    "            elif df2[\"RATING\"].iloc[i]<6 and df2[\"RATING\"].iloc[i]>0:\n",
    "                list_trust.append(df2[\"RATING\"].iloc[i])\n",
    "            elif df2[\"RATING\"].iloc[i]<11 and df2[\"RATING\"].iloc[i]>5:\n",
    "                list_total_trust.append(df2[\"RATING\"].iloc[i])\n",
    "    if j==3:\n",
    "        dict_trust_3[\"total_distrust\"]=len(list_total_distrust)\n",
    "        dict_trust_3[\"distrust\"]=len(list_distrust)\n",
    "        dict_trust_3[\"trust\"]=len(list_trust)\n",
    "        dict_trust_3[\"total_trust\"]=len(list_total_trust)\n",
    "    \n",
    "    dict_trust_ratio[j]=(len(list_trust)+len(list_total_trust))/(len(list_trust)+len(list_total_trust)+len(list_total_distrust)+len(list_distrust))\n",
    "    dict_total_trust_ratio[j]=len(list_total_trust)/(len(list_trust)+len(list_total_trust)+len(list_total_distrust)+len(list_distrust))\n"
   ]
  },
  {
   "cell_type": "code",
   "execution_count": 27,
   "metadata": {},
   "outputs": [
    {
     "data": {
      "image/png": "[encoded data removed]",
      "text/plain": [
       "<Figure size 864x288 with 2 Axes>"
      ]
     },
     "metadata": {
      "needs_background": "light"
     },
     "output_type": "display_data"
    }
   ],
   "source": [
    "fig, axes = plt.subplots(1, 2, figsize=(12, 4))\n",
    "\n",
    "axes[0].bar(range(len(dict_trust_3)), dict_trust_3.values(), align='center')\n",
    "axes[0].set_xticklabels(list(dict_trust_3.keys()));\n",
    "axes[0].set_xticks(range(len(dict_trust_3.keys())));\n",
    "axes[0].set_xlabel('Categories')\n",
    "axes[0].set_ylabel(\"number of nodes\")\n",
    "axes[0].set_title(\"Trustworthiness Distribution for community 3\")\n",
    "\n",
    "axes[1].bar(range(len(dict_trust_ratio.keys())), dict_trust_ratio.values(), align='center')\n",
    "axes[1].set_xticklabels(list(dict_trust_ratio.keys()));\n",
    "axes[1].set_xticks(range(len(dict_trust_ratio.keys())));\n",
    "axes[1].set_xlabel('Communities')\n",
    "axes[1].set_ylabel(\"Proportion of trust nodes\")\n",
    "axes[1].set_title(\"Proportion of trust nodes by community\");"
   ]
  },
  {
   "cell_type": "code",
   "execution_count": 28,
   "metadata": {},
   "outputs": [
    {
     "data": {
      "image/png": "[encoded data removed]",
      "text/plain": [
       "<Figure size 864x288 with 1 Axes>"
      ]
     },
     "metadata": {
      "needs_background": "light"
     },
     "output_type": "display_data"
    }
   ],
   "source": [
    "fig, axes = plt.subplots(1, 1, figsize=(12, 4))\n",
    "\n",
    "axes.bar(range(len(dict_total_trust_ratio)), dict_total_trust_ratio.values(), align='center')\n",
    "axes.set_xticklabels(list(dict_total_trust_ratio.keys()));\n",
    "axes.set_xticks(range(len(dict_total_trust_ratio.keys())));\n",
    "axes.set_xlabel('Communities')\n",
    "axes.set_ylabel(\"Proportion of totally trustworthy nodes\")\n",
    "axes.set_title(\"Total Trustworthiness Distribution in communities\");"
   ]
  },
  {
   "cell_type": "code",
   "execution_count": 31,
   "metadata": {},
   "outputs": [
    {
     "data": {
      "text/html": [
       "<div>\n",
       "<style scoped>\n",
       "    .dataframe tbody tr th:only-of-type {\n",
       "        vertical-align: middle;\n",
       "    }\n",
       "\n",
       "    .dataframe tbody tr th {\n",
       "        vertical-align: top;\n",
       "    }\n",
       "\n",
       "    .dataframe thead th {\n",
       "        text-align: right;\n",
       "    }\n",
       "</style>\n",
       "<table border=\"1\" class=\"dataframe\">\n",
       "  <thead>\n",
       "    <tr style=\"text-align: right;\">\n",
       "      <th></th>\n",
       "      <th>community_source</th>\n",
       "      <th>community_target</th>\n",
       "      <th>number of edges</th>\n",
       "    </tr>\n",
       "  </thead>\n",
       "  <tbody>\n",
       "    <tr>\n",
       "      <th>0</th>\n",
       "      <td>0</td>\n",
       "      <td>3</td>\n",
       "      <td>12</td>\n",
       "    </tr>\n",
       "    <tr>\n",
       "      <th>1</th>\n",
       "      <td>0</td>\n",
       "      <td>10</td>\n",
       "      <td>1</td>\n",
       "    </tr>\n",
       "    <tr>\n",
       "      <th>2</th>\n",
       "      <td>0</td>\n",
       "      <td>11</td>\n",
       "      <td>2</td>\n",
       "    </tr>\n",
       "    <tr>\n",
       "      <th>3</th>\n",
       "      <td>1</td>\n",
       "      <td>3</td>\n",
       "      <td>8</td>\n",
       "    </tr>\n",
       "    <tr>\n",
       "      <th>4</th>\n",
       "      <td>1</td>\n",
       "      <td>9</td>\n",
       "      <td>1</td>\n",
       "    </tr>\n",
       "  </tbody>\n",
       "</table>\n",
       "</div>"
      ],
      "text/plain": [
       "   community_source  community_target  number of edges\n",
       "0                 0                 3               12\n",
       "1                 0                10                1\n",
       "2                 0                11                2\n",
       "3                 1                 3                8\n",
       "4                 1                 9                1"
      ]
     },
     "execution_count": 31,
     "metadata": {},
     "output_type": "execute_result"
    }
   ],
   "source": [
    "df_grouped=df2.groupby([\"community_source\", \"community_target\"]).size().reset_index(name=\"number of edges\")\n",
    "df_grouped.head(5)"
   ]
  },
  {
   "cell_type": "code",
   "execution_count": 33,
   "metadata": {},
   "outputs": [],
   "source": [
    "#dict containing the mean rating between communities\n",
    "dict_inter_commu={}\n",
    "for j in communities_of_interest:\n",
    "    for i in range(df2.shape[0]):\n",
    "        if df2[\"community\"].iloc[i]==\"nan\" and df2[\"community_source\"].iloc[i]==j:\n",
    "            #print(df[\"community_target\"].iloc[i])\n",
    "            if df2[\"community_target\"].iloc[i] in communities_of_interest:\n",
    "                try:\n",
    "                    dict_inter_commu[(j,df2[\"community_target\"].iloc[i])]=dict_inter_commu[(j,df2[\"community_target\"].iloc[i])]+ df2[\"RATING\"].iloc[i]\n",
    "                except KeyError:\n",
    "                    dict_inter_commu[(j,df2[\"community_target\"].iloc[i])]=df2[\"RATING\"].iloc[i]\n",
    "\n",
    "for key in dict_inter_commu.keys():\n",
    "    source=key[0]\n",
    "    target=key[1]\n",
    "    for i in range(df_grouped.shape[0]):\n",
    "        if df_grouped[\"community_source\"].iloc[i]==source and df_grouped[\"community_target\"].iloc[i]==target:\n",
    "            dict_inter_commu[key]=dict_inter_commu[key]/df_grouped[\"number of edges\"].iloc[i]"
   ]
  },
  {
   "cell_type": "code",
   "execution_count": 34,
   "metadata": {
    "scrolled": true
   },
   "outputs": [
    {
     "data": {
      "text/plain": [
       "{(3, 9): 1.3364377182770664,\n",
       " (3, 23): 1.5428907168037602,\n",
       " (3, 26): 0.4822404371584699,\n",
       " (3, 16): 0.7617728531855956,\n",
       " (3, 14): 0.27472527472527475,\n",
       " (3, 6): 1.5135135135135136,\n",
       " (3, 11): 0.46075085324232085,\n",
       " (3, 10): 0.6199524940617577,\n",
       " (6, 3): 1.6444444444444444,\n",
       " (6, 23): 1.5294117647058822,\n",
       " (6, 11): 1.0,\n",
       " (6, 9): 1.8846153846153846,\n",
       " (6, 26): 0.375,\n",
       " (6, 16): 1.3333333333333333,\n",
       " (6, 10): 3.8333333333333335,\n",
       " (6, 14): 1.5,\n",
       " (9, 3): 1.544340723453909,\n",
       " (9, 23): 0.778584392014519,\n",
       " (9, 26): -0.3793103448275862,\n",
       " (9, 16): -0.23052959501557632,\n",
       " (9, 10): -0.7323008849557522,\n",
       " (9, 6): 1.3870967741935485,\n",
       " (9, 11): 0.0011402508551881414,\n",
       " (9, 14): 0.36809815950920244,\n",
       " (10, 3): 0.9251207729468599,\n",
       " (10, 9): 0.6109510086455331,\n",
       " (10, 6): 3.8,\n",
       " (10, 26): 0.37349397590361444,\n",
       " (10, 23): 1.160220994475138,\n",
       " (10, 11): 0.714975845410628,\n",
       " (10, 16): 0.9933774834437086,\n",
       " (10, 14): 1.112,\n",
       " (11, 3): 1.3376018626309663,\n",
       " (11, 23): 1.04,\n",
       " (11, 6): -0.14285714285714285,\n",
       " (11, 9): 1.3371104815864023,\n",
       " (11, 10): 0.18181818181818182,\n",
       " (11, 26): 0.8338368580060423,\n",
       " (11, 16): 0.16113744075829384,\n",
       " (11, 14): 1.3480392156862746,\n",
       " (14, 3): 0.9882352941176471,\n",
       " (14, 11): 1.7339449541284404,\n",
       " (14, 9): 1.7730496453900708,\n",
       " (14, 6): 1.3333333333333333,\n",
       " (14, 26): 0.5789473684210527,\n",
       " (14, 10): -1.7310344827586206,\n",
       " (14, 16): -0.27906976744186046,\n",
       " (14, 23): 1.5925925925925926,\n",
       " (16, 3): 1.599264705882353,\n",
       " (16, 9): 1.2123893805309736,\n",
       " (16, 23): 1.1531531531531531,\n",
       " (16, 6): 1.3333333333333333,\n",
       " (16, 26): 0.831275720164609,\n",
       " (16, 11): 0.9476439790575916,\n",
       " (16, 10): 0.1568627450980392,\n",
       " (16, 14): 0.6046511627906976,\n",
       " (23, 3): 1.5570552147239263,\n",
       " (23, 9): 1.349896480331263,\n",
       " (23, 26): -0.03116883116883117,\n",
       " (23, 11): 0.4215686274509804,\n",
       " (23, 6): 1.0,\n",
       " (23, 16): -0.007518796992481203,\n",
       " (23, 10): -1.0045871559633028,\n",
       " (23, 14): 0.9146341463414634,\n",
       " (26, 3): 1.6,\n",
       " (26, 23): 0.967828418230563,\n",
       " (26, 9): 1.4439834024896265,\n",
       " (26, 10): -0.12617702448210924,\n",
       " (26, 6): 2.0,\n",
       " (26, 16): 0.1811320754716981,\n",
       " (26, 11): 0.8110119047619048,\n",
       " (26, 14): 1.46875}"
      ]
     },
     "execution_count": 34,
     "metadata": {},
     "output_type": "execute_result"
    }
   ],
   "source": [
    "dict_inter_commu"
   ]
  },
  {
   "cell_type": "code",
   "execution_count": 36,
   "metadata": {},
   "outputs": [
    {
     "data": {
      "image/png": "[encoded data removed]",
      "text/plain": [
       "<Figure size 432x288 with 1 Axes>"
      ]
     },
     "metadata": {},
     "output_type": "display_data"
    }
   ],
   "source": [
    "G_commu=nx.Graph()\n",
    "for key in dict_inter_commu.keys():\n",
    "    G_commu.add_weighted_edges_from([(key[0],key[1],dict_inter_commu[key])],weight=\"rating\")\n",
    "\n",
    "nx.draw(G_commu,with_labels = True)\n",
    "plt.draw()"
   ]
  },
  {
   "cell_type": "code",
   "execution_count": 111,
   "metadata": {},
   "outputs": [
    {
     "data": {
      "image/png": "[encoded data removed]",
      "text/plain": [
       "<Figure size 864x288 with 2 Axes>"
      ]
     },
     "metadata": {
      "needs_background": "light"
     },
     "output_type": "display_data"
    }
   ],
   "source": [
    "dict_rating_11={}\n",
    "for key in dict_inter_commu.keys():\n",
    "    if key[0]==10:\n",
    "        dict_rating_11[key[1]]=dict_inter_commu[key]\n",
    "\n",
    "fig, axes = plt.subplots(1,2, figsize=(12, 4))\n",
    "#fig, axes = plt.subplots()\n",
    "axes[0].bar(range(len(dict_rating_11.keys())), dict_rating_11.values(), align='center')\n",
    "axes[0].set_xticklabels(list(dict_rating_11.keys()))\n",
    "axes[0].set_xticks(range(len(dict_rating_11.keys())))\n",
    "axes[0].set_xlabel('Communities')\n",
    "axes[0].set_ylabel(\"Rating\")\n",
    "axes[0].set_title(\"Ratings attributed by community 11\")\n",
    "\n",
    "axes[1].bar(range(len(dict_rating.keys())), mean_scores, align='center')\n",
    "axes[1].set_xticklabels(list(dict_rating.keys()))\n",
    "axes[1].set_xticks(range(len(dict_rating.keys())))\n",
    "axes[1].set_xlabel('Communities')\n",
    "axes[1].set_ylabel(\"Rating\")\n",
    "axes[1].set_title(\"Mean Ratings\");\n",
    "\n",
    "\n"
   ]
  },
  {
   "cell_type": "code",
   "execution_count": 86,
   "metadata": {},
   "outputs": [
    {
     "data": {
      "text/plain": [
       "{3: 1.5135135135135136,\n",
       " 23: 1.0,\n",
       " 6: 1.6444444444444444,\n",
       " 9: 1.3870967741935485,\n",
       " 10: 3.8,\n",
       " 26: 2.0,\n",
       " 16: 1.3333333333333333,\n",
       " 14: 1.3333333333333333,\n",
       " 11: -0.14285714285714285}"
      ]
     },
     "execution_count": 86,
     "metadata": {},
     "output_type": "execute_result"
    }
   ],
   "source": [
    "dict_rating_3"
   ]
  },
  {
   "cell_type": "code",
   "execution_count": 112,
   "metadata": {},
   "outputs": [
    {
     "data": {
      "image/png": "[encoded data removed]",
      "text/plain": [
       "<Figure size 576x288 with 1 Axes>"
      ]
     },
     "metadata": {
      "needs_background": "light"
     },
     "output_type": "display_data"
    }
   ],
   "source": [
    "dict_diff_rating_inter_commu={}\n",
    "\n",
    "for i in communities_of_interest:\n",
    "    mean=0\n",
    "    a=0\n",
    "    for key in dict_inter_commu.keys():\n",
    "        if key[1]==i:\n",
    "            mean+=(dict_inter_commu[key])\n",
    "            a+=1\n",
    "    dict_diff_rating_inter_commu[i]=(mean/a)-dict_rating[i][0]\n",
    "            \n",
    "\n",
    "fig, axes = plt.subplots(1,1, figsize=(8, 4))\n",
    "#fig, axes = plt.subplots()\n",
    "axes.bar(range(len(dict_diff_rating_inter_commu.keys())), dict_diff_rating_inter_commu.values(), align='center')\n",
    "axes.set_xticklabels(list(dict_diff_rating_inter_commu.keys()))\n",
    "axes.set_xticks(range(len(dict_diff_rating_inter_commu.keys())))\n",
    "axes.set_xlabel('Communities')\n",
    "axes.set_ylabel(\"Rating\")\n",
    "axes.set_title(\"Mean Ratings difference\");\n"
   ]
  },
  {
   "cell_type": "markdown",
   "metadata": {},
   "source": [
    "## Using Fairness/Goodness"
   ]
  },
  {
   "cell_type": "code",
   "execution_count": 114,
   "metadata": {},
   "outputs": [],
   "source": [
    "df_FG = pd.read_csv(\"soc-sign-bitcoinotc.csv\",header=None,names=(\"SOURCE TARGET RATING TIME\").split())\n",
    "df_FG = df_FG.drop(columns = \"TIME\")\n",
    "df_FG['RATING'] = df_FG['RATING']/10\n",
    "G_FG = nx.DiGraph()\n",
    "G_FG=nx.from_pandas_edgelist(df_FG, 'SOURCE','TARGET','RATING',G_FG)"
   ]
  },
  {
   "cell_type": "code",
   "execution_count": 115,
   "metadata": {},
   "outputs": [],
   "source": [
    "def initiliaze_scores(G):\n",
    "    fairness = {}\n",
    "    goodness = {}\n",
    "    \n",
    "    nodes = G.nodes()\n",
    "    for node in nodes:\n",
    "        fairness[node] = 1\n",
    "        try:\n",
    "            goodness[node] = G.in_degree(node, weight='RATING')*1.0/G.in_degree(node)\n",
    "        except:\n",
    "            goodness[node] = 0\n",
    "    return fairness, goodness\n",
    "\n",
    "\n",
    "def compute_fairness_goodness(G):\n",
    "    fairness, goodness = initiliaze_scores(G)\n",
    "    \n",
    "    nodes = G.nodes()\n",
    "    iter = 0\n",
    "    while iter < 100:\n",
    "        df = 0\n",
    "        dg = 0\n",
    "\n",
    "        print('-----------------')\n",
    "        print(\"Iteration number\", iter)\n",
    "        \n",
    "        print('Updating goodness')\n",
    "        for node in nodes:\n",
    "            inedges = G.in_edges(node, data='RATING')\n",
    "            #print(inedges)\n",
    "            g = 0\n",
    "            for edge in inedges:\n",
    "                g += fairness[edge[0]]*edge[2]\n",
    "\n",
    "            try:\n",
    "                dg += abs(g/len(inedges) - goodness[node])\n",
    "                goodness[node] = g/len(inedges)\n",
    "            except:\n",
    "                pass\n",
    "\n",
    "        print('Updating fairness')\n",
    "        for node in nodes:\n",
    "            outedges = G.out_edges(node, data='RATING')\n",
    "            f = 0\n",
    "            for edge in outedges:\n",
    "                f += 1.0 - abs(edge[2] - goodness[edge[1]])/2.0\n",
    "            try:\n",
    "                df += abs(f/len(outedges) - fairness[node])\n",
    "                fairness[node] = f/len(outedges)\n",
    "            except:\n",
    "                pass\n",
    "        \n",
    "        print('Differences in fairness score and goodness score = %.2f, %.2f' % (df, dg))\n",
    "        if df < math.pow(10, -6) and dg < math.pow(10, -6):\n",
    "            break\n",
    "        iter+=1\n",
    "    \n",
    "    return fairness, goodness"
   ]
  },
  {
   "cell_type": "code",
   "execution_count": 116,
   "metadata": {},
   "outputs": [
    {
     "name": "stdout",
     "output_type": "stream",
     "text": [
      "-----------------\n",
      "Iteration number 0\n",
      "Updating goodness\n",
      "Updating fairness\n",
      "Differences in fairness score and goodness score = 382.21, 0.00\n",
      "-----------------\n",
      "Iteration number 1\n",
      "Updating goodness\n",
      "Updating fairness\n",
      "Differences in fairness score and goodness score = 34.47, 102.29\n",
      "-----------------\n",
      "Iteration number 2\n",
      "Updating goodness\n",
      "Updating fairness\n",
      "Differences in fairness score and goodness score = 2.39, 6.97\n",
      "-----------------\n",
      "Iteration number 3\n",
      "Updating goodness\n",
      "Updating fairness\n",
      "Differences in fairness score and goodness score = 0.39, 1.06\n",
      "-----------------\n",
      "Iteration number 4\n",
      "Updating goodness\n",
      "Updating fairness\n",
      "Differences in fairness score and goodness score = 0.10, 0.24\n",
      "-----------------\n",
      "Iteration number 5\n",
      "Updating goodness\n",
      "Updating fairness\n",
      "Differences in fairness score and goodness score = 0.03, 0.06\n",
      "-----------------\n",
      "Iteration number 6\n",
      "Updating goodness\n",
      "Updating fairness\n",
      "Differences in fairness score and goodness score = 0.01, 0.02\n",
      "-----------------\n",
      "Iteration number 7\n",
      "Updating goodness\n",
      "Updating fairness\n",
      "Differences in fairness score and goodness score = 0.00, 0.00\n",
      "-----------------\n",
      "Iteration number 8\n",
      "Updating goodness\n",
      "Updating fairness\n",
      "Differences in fairness score and goodness score = 0.00, 0.00\n",
      "-----------------\n",
      "Iteration number 9\n",
      "Updating goodness\n",
      "Updating fairness\n",
      "Differences in fairness score and goodness score = 0.00, 0.00\n",
      "-----------------\n",
      "Iteration number 10\n",
      "Updating goodness\n",
      "Updating fairness\n",
      "Differences in fairness score and goodness score = 0.00, 0.00\n",
      "-----------------\n",
      "Iteration number 11\n",
      "Updating goodness\n",
      "Updating fairness\n",
      "Differences in fairness score and goodness score = 0.00, 0.00\n",
      "-----------------\n",
      "Iteration number 12\n",
      "Updating goodness\n",
      "Updating fairness\n",
      "Differences in fairness score and goodness score = 0.00, 0.00\n",
      "-----------------\n",
      "Iteration number 13\n",
      "Updating goodness\n",
      "Updating fairness\n",
      "Differences in fairness score and goodness score = 0.00, 0.00\n",
      "-----------------\n",
      "Iteration number 14\n",
      "Updating goodness\n",
      "Updating fairness\n",
      "Differences in fairness score and goodness score = 0.00, 0.00\n"
     ]
    }
   ],
   "source": [
    "fairness, goodness = compute_fairness_goodness(G_FG)"
   ]
  },
  {
   "cell_type": "code",
   "execution_count": 120,
   "metadata": {
    "scrolled": true
   },
   "outputs": [
    {
     "name": "stdout",
     "output_type": "stream",
     "text": [
      "0\n",
      "1000\n",
      "2000\n",
      "3000\n",
      "4000\n",
      "5000\n",
      "6000\n",
      "7000\n",
      "8000\n",
      "9000\n",
      "10000\n",
      "11000\n",
      "12000\n",
      "13000\n",
      "14000\n",
      "15000\n",
      "16000\n",
      "17000\n",
      "18000\n",
      "19000\n",
      "20000\n",
      "21000\n",
      "22000\n",
      "23000\n",
      "24000\n",
      "25000\n",
      "26000\n",
      "27000\n",
      "28000\n",
      "29000\n",
      "30000\n",
      "31000\n",
      "32000\n",
      "33000\n",
      "34000\n",
      "35000\n"
     ]
    }
   ],
   "source": [
    "df2[\"fairness_source\"]=0\n",
    "df2[\"goodness_source\"]=0\n",
    "df2[\"FG_source\"]=0\n",
    "\n",
    "fairness_source=[]\n",
    "goodness_source=[]\n",
    "FG_source=[]\n",
    "\n",
    "for i in range(df2.shape[0]):\n",
    "    fairness_source.append(fairness[df2[\"SOURCE\"].iloc[i]])\n",
    "    goodness_source.append(goodness[df2[\"SOURCE\"].iloc[i]])\n",
    "    FG_source.append(fairness_source[i]*goodness_source[i])\n",
    "    \n",
    "    if i%1000==0:print(i)\n",
    "\n",
    "df2[\"fairness_source\"]=fairness_source\n",
    "df2[\"goodness_source\"]=goodness_source\n",
    "df2[\"FG_source\"]=FG_source\n",
    "    "
   ]
  },
  {
   "cell_type": "code",
   "execution_count": 122,
   "metadata": {},
   "outputs": [
    {
     "data": {
      "text/html": [
       "<div>\n",
       "<style scoped>\n",
       "    .dataframe tbody tr th:only-of-type {\n",
       "        vertical-align: middle;\n",
       "    }\n",
       "\n",
       "    .dataframe tbody tr th {\n",
       "        vertical-align: top;\n",
       "    }\n",
       "\n",
       "    .dataframe thead th {\n",
       "        text-align: right;\n",
       "    }\n",
       "</style>\n",
       "<table border=\"1\" class=\"dataframe\">\n",
       "  <thead>\n",
       "    <tr style=\"text-align: right;\">\n",
       "      <th></th>\n",
       "      <th>SOURCE</th>\n",
       "      <th>TARGET</th>\n",
       "      <th>RATING</th>\n",
       "      <th>community_source</th>\n",
       "      <th>community_target</th>\n",
       "      <th>same_community</th>\n",
       "      <th>community</th>\n",
       "      <th>fairness_source</th>\n",
       "      <th>goodness_source</th>\n",
       "      <th>FG_source</th>\n",
       "    </tr>\n",
       "  </thead>\n",
       "  <tbody>\n",
       "    <tr>\n",
       "      <th>0</th>\n",
       "      <td>6</td>\n",
       "      <td>2</td>\n",
       "      <td>4</td>\n",
       "      <td>3</td>\n",
       "      <td>3</td>\n",
       "      <td>1</td>\n",
       "      <td>3</td>\n",
       "      <td>0.895726</td>\n",
       "      <td>0.130176</td>\n",
       "      <td>0.116602</td>\n",
       "    </tr>\n",
       "    <tr>\n",
       "      <th>1</th>\n",
       "      <td>6</td>\n",
       "      <td>5</td>\n",
       "      <td>2</td>\n",
       "      <td>3</td>\n",
       "      <td>3</td>\n",
       "      <td>1</td>\n",
       "      <td>3</td>\n",
       "      <td>0.895726</td>\n",
       "      <td>0.130176</td>\n",
       "      <td>0.116602</td>\n",
       "    </tr>\n",
       "    <tr>\n",
       "      <th>2</th>\n",
       "      <td>1</td>\n",
       "      <td>15</td>\n",
       "      <td>1</td>\n",
       "      <td>3</td>\n",
       "      <td>3</td>\n",
       "      <td>1</td>\n",
       "      <td>3</td>\n",
       "      <td>0.922436</td>\n",
       "      <td>0.323933</td>\n",
       "      <td>0.298808</td>\n",
       "    </tr>\n",
       "    <tr>\n",
       "      <th>3</th>\n",
       "      <td>4</td>\n",
       "      <td>3</td>\n",
       "      <td>7</td>\n",
       "      <td>3</td>\n",
       "      <td>3</td>\n",
       "      <td>1</td>\n",
       "      <td>3</td>\n",
       "      <td>0.891287</td>\n",
       "      <td>0.286600</td>\n",
       "      <td>0.255443</td>\n",
       "    </tr>\n",
       "    <tr>\n",
       "      <th>4</th>\n",
       "      <td>13</td>\n",
       "      <td>16</td>\n",
       "      <td>8</td>\n",
       "      <td>3</td>\n",
       "      <td>9</td>\n",
       "      <td>0</td>\n",
       "      <td>nan</td>\n",
       "      <td>0.945563</td>\n",
       "      <td>0.167373</td>\n",
       "      <td>0.158262</td>\n",
       "    </tr>\n",
       "  </tbody>\n",
       "</table>\n",
       "</div>"
      ],
      "text/plain": [
       "   SOURCE  TARGET  RATING  community_source  community_target  same_community  \\\n",
       "0       6       2       4                 3                 3               1   \n",
       "1       6       5       2                 3                 3               1   \n",
       "2       1      15       1                 3                 3               1   \n",
       "3       4       3       7                 3                 3               1   \n",
       "4      13      16       8                 3                 9               0   \n",
       "\n",
       "  community  fairness_source  goodness_source  FG_source  \n",
       "0         3         0.895726         0.130176   0.116602  \n",
       "1         3         0.895726         0.130176   0.116602  \n",
       "2         3         0.922436         0.323933   0.298808  \n",
       "3         3         0.891287         0.286600   0.255443  \n",
       "4       nan         0.945563         0.167373   0.158262  "
      ]
     },
     "execution_count": 122,
     "metadata": {},
     "output_type": "execute_result"
    }
   ],
   "source": [
    "df2.head(5)"
   ]
  },
  {
   "cell_type": "code",
   "execution_count": 127,
   "metadata": {},
   "outputs": [
    {
     "name": "stdout",
     "output_type": "stream",
     "text": [
      "{3: (0.1480650122408658, 0.0961922621034571), 6: (0.1417749090462331, 0.04644984609657157), 9: (0.11264694488262958, 0.10908362982885283), 10: (-0.014568716634952513, 0.22048112706890524), 11: (0.09237975278978941, 0.1463626801880803), 14: (0.07489253943828579, 0.18243444084465907), 16: (0.11025442977089345, 0.18713578270299652), 23: (0.12388568941053875, 0.1161666036744673), 26: (0.08457916577330803, 0.1677809476834277)}\n"
     ]
    },
    {
     "data": {
      "image/png": "[encoded data removed]",
      "text/plain": [
       "<Figure size 576x864 with 2 Axes>"
      ]
     },
     "metadata": {
      "needs_background": "light"
     },
     "output_type": "display_data"
    }
   ],
   "source": [
    "# dictionary that contains the mean FG score of users of the same community and the std\n",
    "dict_FG={}\n",
    "dict_FG_list={}\n",
    "for i in communities_of_interest:\n",
    "    list_ratings=[]\n",
    "    n_nodes=0\n",
    "    sum_ratings=0\n",
    "    for l in range(df2.shape[0]):\n",
    "        if df2[\"same_community\"].iloc[l]==1:\n",
    "            if df2[\"community_source\"].iloc[l]==i:\n",
    "                sum_ratings+=df2[\"FG_source\"].iloc[l]\n",
    "                list_ratings.append(df2[\"FG_source\"].iloc[l])\n",
    "                n_nodes+=1\n",
    "     \n",
    "    dict_FG_list[i]=list_ratings\n",
    "    dict_FG[i]=(sum_ratings/n_nodes,np.std(list_ratings))\n",
    "\n",
    "print(dict_FG)\n",
    "\n",
    "\n",
    "FG_mean_scores=[]\n",
    "for i in dict_FG.values():\n",
    "    FG_mean_scores.append(i[0])\n",
    "    \n",
    "labels, data = [*zip(*dict_FG.items())] \n",
    "fig, axes = plt.subplots(2, 1, figsize=(8, 12))\n",
    "\n",
    "axes[0].bar(range(len(dict_FG.keys())), FG_mean_scores, align='center')\n",
    "axes[0].set_xticklabels(list(dict_FG.keys()));\n",
    "axes[0].set_xticks(range(len(dict_FG.keys())));\n",
    "axes[0].set_xlabel('Communities')\n",
    "axes[0].set_ylabel(\"FG score\")\n",
    "axes[0].set_title(\"FG score by community\")\n",
    "\n",
    "axes[1].boxplot(data)\n",
    "axes[1].set_xticklabels(list(dict_FG.keys()));\n",
    "axes[1].set_xticks(range(1, len(labels) + 1), labels);\n",
    "axes[1].set_xlabel('Communities')\n",
    "axes[1].set_ylabel(\"FG score\")\n",
    "axes[1].set_title(\"FG score distribution\");"
   ]
  },
  {
   "cell_type": "markdown",
   "metadata": {},
   "source": [
    "# Link predictions"
   ]
  },
  {
   "cell_type": "code",
   "execution_count": 2,
   "metadata": {},
   "outputs": [],
   "source": [
    "#Put G = nx.Graph(directed = True) above (beginning of the notebook)\n",
    "df = pd.read_csv(\"soc-sign-bitcoinotc.csv\",header=None,names=(\"SOURCE TARGET RATING TIME\").split())\n",
    "df[\"LINK\"]= 1\n",
    "df = df.drop(columns = \"TIME\")\n",
    "df = df.drop(columns = \"RATING\")"
   ]
  },
  {
   "cell_type": "code",
   "execution_count": 3,
   "metadata": {},
   "outputs": [],
   "source": [
    "import itertools as iter\n",
    "#New combination\n",
    "new_comb = []\n",
    "for pair in iter.combinations(df.SOURCE[0:1000].unique(), 2):\n",
    "        new_comb.append(pair)"
   ]
  },
  {
   "cell_type": "code",
   "execution_count": 4,
   "metadata": {},
   "outputs": [],
   "source": [
    "df2 = pd.DataFrame(new_comb, columns = [\"SOURCE\",\"TARGET\"])\n",
    "df2[\"LINK\"] = 0\n",
    "df = pd.concat([df,df2])\n",
    "Y = df['LINK']\n",
    "X = df.loc[:,df.columns!='LINK']"
   ]
  },
  {
   "cell_type": "code",
   "execution_count": 5,
   "metadata": {},
   "outputs": [],
   "source": [
    "#Splitting datas between train and test sets\n",
    "from sklearn.model_selection import train_test_split\n",
    "\n",
    "X_train, X_test, y_train, y_test = train_test_split(X,Y,test_size=0.3, random_state=2)"
   ]
  },
  {
   "cell_type": "code",
   "execution_count": 6,
   "metadata": {},
   "outputs": [
    {
     "data": {
      "text/plain": [
       "5881"
      ]
     },
     "execution_count": 6,
     "metadata": {},
     "output_type": "execute_result"
    }
   ],
   "source": [
    "nodes = pd.concat([X.SOURCE, X.TARGET]).unique()\n",
    "G_traindf = pd.concat([X_train, y_train], axis=1)\n",
    "G_traindf=G_traindf[G_traindf.LINK==1]\n",
    "\n",
    "G_traindf = G_traindf[['SOURCE', 'TARGET']]\n",
    "G=nx.from_pandas_edgelist(G_traindf , 'SOURCE','TARGET')\n",
    "G.add_nodes_from(nodes)\n",
    "G.number_of_nodes()"
   ]
  },
  {
   "cell_type": "code",
   "execution_count": 7,
   "metadata": {},
   "outputs": [
    {
     "name": "stdout",
     "output_type": "stream",
     "text": [
      "1 training examples processed\n",
      "1001 training examples processed\n",
      "2001 training examples processed\n",
      "3001 training examples processed\n",
      "4001 training examples processed\n",
      "5001 training examples processed\n",
      "6001 training examples processed\n",
      "7001 training examples processed\n",
      "8001 training examples processed\n",
      "9001 training examples processed\n",
      "10001 training examples processed\n",
      "11001 training examples processed\n",
      "12001 training examples processed\n",
      "13001 training examples processed\n",
      "14001 training examples processed\n",
      "15001 training examples processed\n",
      "16001 training examples processed\n",
      "17001 training examples processed\n",
      "18001 training examples processed\n",
      "19001 training examples processed\n",
      "20001 training examples processed\n",
      "21001 training examples processed\n",
      "22001 training examples processed\n",
      "23001 training examples processed\n",
      "24001 training examples processed\n",
      "25001 training examples processed\n",
      "26001 training examples processed\n",
      "27001 training examples processed\n",
      "28001 training examples processed\n",
      "29001 training examples processed\n",
      "30001 training examples processed\n",
      "31001 training examples processed\n",
      "32001 training examples processed\n",
      "33001 training examples processed\n",
      "34001 training examples processed\n",
      "35001 training examples processed\n",
      "36001 training examples processed\n",
      "37001 training examples processed\n",
      "38001 training examples processed\n",
      "39001 training examples processed\n",
      "40001 training examples processed\n",
      "41001 training examples processed\n",
      "42001 training examples processed\n",
      "43001 training examples processed\n",
      "44001 training examples processed\n",
      "45001 training examples processed\n",
      "46001 training examples processed\n"
     ]
    }
   ],
   "source": [
    "#Jaccard Similarity\n",
    "jacc = []\n",
    "\n",
    "#Adamic Similarity\n",
    "adamic_adar = []\n",
    "\n",
    "#Preferential attachment\n",
    "pref_att=[]\n",
    "\n",
    "#Common neighbors\n",
    "comm_neigh = []\n",
    "\n",
    "counter = 0\n",
    "for i in range(X_train.shape[0]):\n",
    "    source = X_train.iloc[i][0]\n",
    "    target = X_train.iloc[i][1]\n",
    "\n",
    "\n",
    "   #Topological Features\n",
    "        #Preferential attachment\n",
    "    deg_source = len(list(G.neighbors(source)))\n",
    "    deg_target = len(list(G.neighbors(target)))\n",
    "    pref_att.append(deg_source*deg_target)\n",
    "    \n",
    "        #Number of common neighbors\n",
    "    comm_neigh.append(len(list(nx.common_neighbors(G,source,target))))\n",
    "    \n",
    "        #Adamic Adar\n",
    "    for s,t,coeff in nx.adamic_adar_index(G,[(source, target)] ) : \n",
    "        adamic_adar.append(coeff)\n",
    "    \n",
    "    # Jaccard coeff\n",
    "    for s,t,coeff in nx.jaccard_coefficient(G,[(source, target)] ) : \n",
    "        jacc.append(coeff)\n",
    "    \n",
    "    \n",
    "    counter += 1\n",
    "    if counter % 1000 == True:\n",
    "        print(counter, \"training examples processed\")\n",
    "\n",
    "# convert list of lists into array\n",
    "# documents as rows, unique words as columns (i.e., example as rows, features as columns)\n",
    "training_features = np.array([comm_neigh, jacc,pref_att,adamic_adar]).T\n",
    "\n",
    "# scale\n",
    "training_features = preprocessing.scale(training_features)\n",
    "\n",
    "# convert labels into integers then into column array\n",
    "#labels = [int(element[2]) for element in X_train]\n",
    "#labels = list(labels)\n",
    "#labels_array = np.array(labels)"
   ]
  },
  {
   "cell_type": "code",
   "execution_count": 8,
   "metadata": {},
   "outputs": [
    {
     "name": "stdout",
     "output_type": "stream",
     "text": [
      "1 testing examples processsed\n",
      "1001 testing examples processsed\n",
      "2001 testing examples processsed\n",
      "3001 testing examples processsed\n",
      "4001 testing examples processsed\n",
      "5001 testing examples processsed\n",
      "6001 testing examples processsed\n",
      "7001 testing examples processsed\n",
      "8001 testing examples processsed\n",
      "9001 testing examples processsed\n",
      "10001 testing examples processsed\n",
      "11001 testing examples processsed\n",
      "12001 testing examples processsed\n",
      "13001 testing examples processsed\n",
      "14001 testing examples processsed\n",
      "15001 testing examples processsed\n",
      "16001 testing examples processsed\n",
      "17001 testing examples processsed\n",
      "18001 testing examples processsed\n",
      "19001 testing examples processsed\n"
     ]
    }
   ],
   "source": [
    "#Jaccard Similarity\n",
    "jacc = []\n",
    "\n",
    "#Adamic Similarity\n",
    "adamic_adar = []\n",
    "\n",
    "#Preferential attachment\n",
    "pref_att=[]\n",
    "\n",
    "#Common neighbors\n",
    "comm_neigh = []\n",
    "\n",
    "\n",
    "counter = 0\n",
    "for i in range(X_test.shape[0]):\n",
    "    source = X_test.iloc[i][0]\n",
    "    target = X_test.iloc[i][1]\n",
    "  \n",
    "\n",
    "   #Topological Features\n",
    "        #Preferential attachment\n",
    "    deg_source = len(list(G.neighbors(source)))\n",
    "    deg_target = len(list(G.neighbors(target)))\n",
    "    pref_att.append(deg_source*deg_target)\n",
    "    \n",
    "        #Number of common neighbors\n",
    "    comm_neigh.append(len(list(nx.common_neighbors(G,source,target))))\n",
    "        \n",
    "        #Adamic Adar\n",
    "    for s,t,coeff in nx.adamic_adar_index(G,[(source, target)] ) : \n",
    "        adamic_adar.append(coeff)\n",
    "    \n",
    "    # Jaccard coeff\n",
    "    for s,t,coeff in nx.jaccard_coefficient(G,[(source, target)] ) : \n",
    "        jacc.append(coeff)\n",
    "    \n",
    "    \n",
    "    counter += 1\n",
    "    if counter % 1000 == True:\n",
    "        print(counter, \"testing examples processsed\")\n",
    "\n",
    "# convert list of lists into array\n",
    "# documents as rows, unique words as columns (i.e., example as rows, features as columns)\n",
    "testing_features = np.array([comm_neigh, jacc,pref_att,adamic_adar]).T\n",
    "\n",
    "# scale\n",
    "testing_features = preprocessing.scale(testing_features)"
   ]
  },
  {
   "cell_type": "code",
   "execution_count": 9,
   "metadata": {},
   "outputs": [
    {
     "name": "stdout",
     "output_type": "stream",
     "text": [
      "The Score for LinearSVC on the train set is: 0.8350403845737424\n",
      "The Score for LinearSVC on the test set is: 0.8324575586095392\n"
     ]
    },
    {
     "name": "stderr",
     "output_type": "stream",
     "text": [
      "C:\\Users\\Arthur\\Python_Projects\\ML\\lib\\site-packages\\sklearn\\svm\\base.py:922: ConvergenceWarning: Liblinear failed to converge, increase the number of iterations.\n",
      "  \"the number of iterations.\", ConvergenceWarning)\n"
     ]
    }
   ],
   "source": [
    "from sklearn import svm\n",
    "from sklearn.metrics import make_scorer, accuracy_score \n",
    "\n",
    "linsvc_clf = svm.LinearSVC(max_iter = 20000, random_state = 112)\n",
    "\n",
    "linsvc_clf.fit(X_train, y_train)\n",
    "\n",
    "predtrain = linsvc_clf.predict(X_train)\n",
    "acc_train = accuracy_score(y_train,predtrain)\n",
    "print(\"The Score for LinearSVC on the train set is: \" + str(acc_train))\n",
    "pred_linsvc = linsvc_clf.predict(X_test)\n",
    "acc_linsvc = accuracy_score(y_test, pred_linsvc)\n",
    "print(\"The Score for LinearSVC on the test set is: \" + str(acc_linsvc))"
   ]
  },
  {
   "cell_type": "markdown",
   "metadata": {},
   "source": [
    "# Weight prediction with fairness/goodness"
   ]
  },
  {
   "cell_type": "code",
   "execution_count": 345,
   "metadata": {},
   "outputs": [],
   "source": [
    "def initiliaze_scores(G):\n",
    "    fairness = {}\n",
    "    goodness = {}\n",
    "    \n",
    "    nodes = G.nodes()\n",
    "    for node in nodes:\n",
    "        fairness[node] = 1\n",
    "        try:\n",
    "            goodness[node] = G.in_degree(node, weight='RATING')*1.0/G.in_degree(node)\n",
    "        except:\n",
    "            goodness[node] = 0\n",
    "    return fairness, goodness\n",
    "\n",
    "\n",
    "def compute_fairness_goodness(G):\n",
    "    fairness, goodness = initiliaze_scores(G)\n",
    "    \n",
    "    nodes = G.nodes()\n",
    "    iter = 0\n",
    "    while iter < 100:\n",
    "        df = 0\n",
    "        dg = 0\n",
    "\n",
    "        print('-----------------')\n",
    "        print(\"Iteration number\", iter)\n",
    "        \n",
    "        print('Updating goodness')\n",
    "        for node in nodes:\n",
    "            inedges = G.in_edges(node, data='RATING')\n",
    "            g = 0\n",
    "            for edge in inedges:\n",
    "                g += fairness[edge[0]]*edge[2]\n",
    "\n",
    "            try:\n",
    "                dg += abs(g/len(inedges) - goodness[node])\n",
    "                goodness[node] = g/len(inedges)\n",
    "            except:\n",
    "                pass\n",
    "\n",
    "        print('Updating fairness')\n",
    "        for node in nodes:\n",
    "            outedges = G.out_edges(node, data='RATING')\n",
    "            f = 0\n",
    "            for edge in outedges:\n",
    "                f += 1.0 - abs(edge[2] - goodness[edge[1]])/2.0\n",
    "            try:\n",
    "                df += abs(f/len(outedges) - fairness[node])\n",
    "                fairness[node] = f/len(outedges)\n",
    "            except:\n",
    "                pass\n",
    "        \n",
    "        print('Differences in fairness score and goodness score = %.2f, %.2f' % (df, dg))\n",
    "        if df < math.pow(10, -6) and dg < math.pow(10, -6):\n",
    "            break\n",
    "        iter+=1\n",
    "    \n",
    "    return fairness, goodness"
   ]
  },
  {
   "cell_type": "code",
   "execution_count": 346,
   "metadata": {},
   "outputs": [],
   "source": [
    "#Put G = nx.Graph(directed = True) above (beginning of the notebook)\n",
    "df = pd.read_csv(\"soc-sign-bitcoinotc.csv\",header=None,names=(\"SOURCE TARGET RATING TIME\").split())\n",
    "df = df.drop(columns = \"TIME\")\n",
    "df['RATING'] = df['RATING']/10"
   ]
  },
  {
   "cell_type": "code",
   "execution_count": 347,
   "metadata": {},
   "outputs": [],
   "source": [
    "Y = df['RATING']\n",
    "X = df.loc[:,df.columns!='RATING']"
   ]
  },
  {
   "cell_type": "code",
   "execution_count": 348,
   "metadata": {},
   "outputs": [],
   "source": [
    "X_train, X_test, y_train, y_test = train_test_split(X,Y,test_size=0.5, random_state=2)"
   ]
  },
  {
   "cell_type": "code",
   "execution_count": 349,
   "metadata": {},
   "outputs": [],
   "source": [
    "G_traindf = pd.concat([X_train, y_train], axis=1)"
   ]
  },
  {
   "cell_type": "code",
   "execution_count": 350,
   "metadata": {},
   "outputs": [],
   "source": [
    "nodes = pd.concat([X.SOURCE, X.TARGET]).unique()\n",
    "G = nx.DiGraph()\n",
    "\n",
    "G=nx.from_pandas_edgelist(G_traindf , 'SOURCE','TARGET','RATING',G)\n",
    "G.add_nodes_from(nodes)"
   ]
  },
  {
   "cell_type": "code",
   "execution_count": 291,
   "metadata": {},
   "outputs": [
    {
     "name": "stdout",
     "output_type": "stream",
     "text": [
      "-----------------\n",
      "Iteration number 0\n",
      "Updating goodness\n",
      "Updating fairness\n",
      "Differences in fairness score and goodness score = 268.13, 0.00\n",
      "-----------------\n",
      "Iteration number 1\n",
      "Updating goodness\n",
      "Updating fairness\n",
      "Differences in fairness score and goodness score = 27.39, 76.11\n",
      "-----------------\n",
      "Iteration number 2\n",
      "Updating goodness\n",
      "Updating fairness\n",
      "Differences in fairness score and goodness score = 2.41, 6.84\n",
      "-----------------\n",
      "Iteration number 3\n",
      "Updating goodness\n",
      "Updating fairness\n",
      "Differences in fairness score and goodness score = 0.44, 1.19\n",
      "-----------------\n",
      "Iteration number 4\n",
      "Updating goodness\n",
      "Updating fairness\n",
      "Differences in fairness score and goodness score = 0.11, 0.27\n",
      "-----------------\n",
      "Iteration number 5\n",
      "Updating goodness\n",
      "Updating fairness\n",
      "Differences in fairness score and goodness score = 0.03, 0.07\n",
      "-----------------\n",
      "Iteration number 6\n",
      "Updating goodness\n",
      "Updating fairness\n",
      "Differences in fairness score and goodness score = 0.01, 0.02\n",
      "-----------------\n",
      "Iteration number 7\n",
      "Updating goodness\n",
      "Updating fairness\n",
      "Differences in fairness score and goodness score = 0.00, 0.01\n",
      "-----------------\n",
      "Iteration number 8\n",
      "Updating goodness\n",
      "Updating fairness\n",
      "Differences in fairness score and goodness score = 0.00, 0.00\n",
      "-----------------\n",
      "Iteration number 9\n",
      "Updating goodness\n",
      "Updating fairness\n",
      "Differences in fairness score and goodness score = 0.00, 0.00\n",
      "-----------------\n",
      "Iteration number 10\n",
      "Updating goodness\n",
      "Updating fairness\n",
      "Differences in fairness score and goodness score = 0.00, 0.00\n",
      "-----------------\n",
      "Iteration number 11\n",
      "Updating goodness\n",
      "Updating fairness\n",
      "Differences in fairness score and goodness score = 0.00, 0.00\n",
      "-----------------\n",
      "Iteration number 12\n",
      "Updating goodness\n",
      "Updating fairness\n",
      "Differences in fairness score and goodness score = 0.00, 0.00\n",
      "-----------------\n",
      "Iteration number 13\n",
      "Updating goodness\n",
      "Updating fairness\n",
      "Differences in fairness score and goodness score = 0.00, 0.00\n",
      "-----------------\n",
      "Iteration number 14\n",
      "Updating goodness\n",
      "Updating fairness\n",
      "Differences in fairness score and goodness score = 0.00, 0.00\n",
      "-----------------\n",
      "Iteration number 15\n",
      "Updating goodness\n",
      "Updating fairness\n",
      "Differences in fairness score and goodness score = 0.00, 0.00\n",
      "-----------------\n",
      "Iteration number 16\n",
      "Updating goodness\n",
      "Updating fairness\n",
      "Differences in fairness score and goodness score = 0.00, 0.00\n"
     ]
    }
   ],
   "source": [
    "# these two dictionaries have the required scores\n",
    "fairness, goodness = compute_fairness_goodness(G)"
   ]
  },
  {
   "cell_type": "code",
   "execution_count": 292,
   "metadata": {},
   "outputs": [
    {
     "name": "stdout",
     "output_type": "stream",
     "text": [
      "1 training examples processed\n",
      "1001 training examples processed\n",
      "2001 training examples processed\n",
      "3001 training examples processed\n",
      "4001 training examples processed\n",
      "5001 training examples processed\n",
      "6001 training examples processed\n",
      "7001 training examples processed\n",
      "8001 training examples processed\n",
      "9001 training examples processed\n",
      "10001 training examples processed\n",
      "11001 training examples processed\n",
      "12001 training examples processed\n",
      "13001 training examples processed\n",
      "14001 training examples processed\n",
      "15001 training examples processed\n",
      "16001 training examples processed\n",
      "17001 training examples processed\n"
     ]
    }
   ],
   "source": [
    "FG =[]\n",
    "\n",
    "counter = 0\n",
    "for i in range(X_train.shape[0]):\n",
    "    source = X_train.iloc[i][0]\n",
    "    target = X_train.iloc[i][1]\n",
    "\n",
    "\n",
    "   #TFairness Goodness\n",
    "    FG.append(fairness[source] * goodness[target])\n",
    "    \n",
    "    \n",
    "    counter += 1\n",
    "    if counter % 1000 == True:\n",
    "        print(counter, \"training examples processed\")\n",
    "\n",
    "# convert list of lists into array\n",
    "# documents as rows, unique words as columns (i.e., example as rows, features as columns)\n",
    "training_features = np.array([FG]).T"
   ]
  },
  {
   "cell_type": "code",
   "execution_count": 293,
   "metadata": {
    "scrolled": true
   },
   "outputs": [
    {
     "name": "stdout",
     "output_type": "stream",
     "text": [
      "1 training examples processed\n",
      "1001 training examples processed\n",
      "2001 training examples processed\n",
      "3001 training examples processed\n",
      "4001 training examples processed\n",
      "5001 training examples processed\n",
      "6001 training examples processed\n",
      "7001 training examples processed\n",
      "8001 training examples processed\n",
      "9001 training examples processed\n",
      "10001 training examples processed\n",
      "11001 training examples processed\n",
      "12001 training examples processed\n",
      "13001 training examples processed\n",
      "14001 training examples processed\n",
      "15001 training examples processed\n",
      "16001 training examples processed\n",
      "17001 training examples processed\n"
     ]
    }
   ],
   "source": [
    "FG =[]\n",
    "\n",
    "counter = 0\n",
    "for i in range(X_test.shape[0]):\n",
    "    source = X_test.iloc[i][0]\n",
    "    target = X_test.iloc[i][1]\n",
    "\n",
    "\n",
    "   #TFairness Goodness\n",
    "    FG.append(fairness[source] * goodness[target])\n",
    "    \n",
    "    \n",
    "    counter += 1\n",
    "    if counter % 1000 == True:\n",
    "        print(counter, \"training examples processed\")\n",
    "\n",
    "# convert list of lists into array\n",
    "# documents as rows, unique words as columns (i.e., example as rows, features as columns)\n",
    "training_features = np.array([FG]).T"
   ]
  },
  {
   "cell_type": "code",
   "execution_count": 310,
   "metadata": {
    "scrolled": true
   },
   "outputs": [
    {
     "name": "stdout",
     "output_type": "stream",
     "text": [
      "The Score for Linear Regression is: \n",
      " rmse 0.3531214113262192\n"
     ]
    },
    {
     "data": {
      "text/plain": [
       "{'alpha': 1e-10}"
      ]
     },
     "execution_count": 310,
     "metadata": {},
     "output_type": "execute_result"
    }
   ],
   "source": [
    "from sklearn.linear_model import Ridge\n",
    "\n",
    "linreg= Ridge()\n",
    "\n",
    "parameters_linreg = {\"alpha\": np.logspace(-10,0,20)}\n",
    "\n",
    "grid_linreg = GridSearchCV(linreg, parameters_linreg, scoring='neg_mean_squared_error', cv = cv_sets)\n",
    "grid_linreg.fit(X_train, y_train)\n",
    "\n",
    "linreg2 = grid_linreg.best_estimator_\n",
    "\n",
    "linreg2.fit(X_train, y_train)\n",
    "pred_linreg = linreg2.predict(X_test)\n",
    "acc_linreg = math.sqrt(sklearn.metrics.mean_squared_error(y_test, pred_linreg))\n",
    "\n",
    "print(\"The Score for Linear Regression is: \\n rmse {0}\".format(acc_linreg,))\n",
    "grid_linreg.best_params_"
   ]
  }
 ],
 "metadata": {
  "kernelspec": {
   "display_name": "ML",
   "language": "python",
   "name": "ml"
  },
  "language_info": {
   "codemirror_mode": {
    "name": "ipython",
    "version": 3
   },
   "file_extension": ".py",
   "mimetype": "text/x-python",
   "name": "python",
   "nbconvert_exporter": "python",
   "pygments_lexer": "ipython3",
   "version": "3.6.7"
  }
 },
 "nbformat": 4,
 "nbformat_minor": 2
}
